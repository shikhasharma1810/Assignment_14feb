{
 "cells": [
  {
   "cell_type": "code",
   "execution_count": null,
   "id": "90de1c24-03d4-450a-899d-c4764b6ec5cb",
   "metadata": {},
   "outputs": [],
   "source": [
    "1. What is multithreading in python? Why is it used? Name the module used to handle threads in python.\n",
    "\n",
    "Multithreading is a stringing procedure in Python programming to run various strings simultaneously by quickly exchanging\n",
    "between strings with a central processor help (called setting exchanging). In addition, it makes it possible to share its\n",
    "data space with the primary threads of a process, making it easier than with individual processes to share information and\n",
    "communicate with other threads. The goal of multithreading is to complete multiple tasks at the same time, which improves \n",
    "application rendering and performance.\n",
    "\n",
    "Programmers can run multiple subtasks of an application at the same time by using multithreading. It lets threads talk \n",
    "to the same processor and share resources like files, data, and memory. In addition, it makes it easier for the user to\n",
    "continue running a program even when a portion of it is blocked or too long.\n",
    "\n",
    "There are two main modules of multithreading used to handle threads in Python.\n",
    "\n",
    "A. The thread module\n",
    "B. The threading module\n",
    "\n",
    "Thread modules: It is started with Python 3, designated as obsolete.\n",
    "\n",
    "Threading Modules: The threading module is a high-level implementation of multithreading used to deploy an application \n",
    "in Python. To use multithreading, we need to import the threading module in Python Program."
   ]
  },
  {
   "cell_type": "code",
   "execution_count": null,
   "id": "4400f6f9-cbfc-4c5c-afbc-5af00de79c8b",
   "metadata": {},
   "outputs": [],
   "source": [
    "2. Why threading module used? Write the use of the following functions-\n",
    "activeCount()\n",
    "currentThread()\n",
    "enumerate()\n",
    "\n",
    "Advantages of Threading:\n",
    "\n",
    "Multithreaded programs can run faster on computer systems with multiple CPUs, because theses threads can be executed truly \n",
    "concurrent.\n",
    "A program can remain responsive to input. This is true both on single and on multiple CPU\n",
    "Threads of a process can share the memory of global variables. If a global variable is changed in one thread, this change\n",
    "is valid for all threads. A thread can have local variables.\n",
    "\n",
    "The threading module exposes all the methods of the thread module and provides some additional methods −\n",
    "\n",
    "threading.activeCount() − Returns the number of thread objects that are active.\n",
    "threading.currentThread() − Returns the number of thread objects in the caller's thread control.\n",
    "threading.enumerate() − Returns a list of all thread objects that are currently active."
   ]
  },
  {
   "cell_type": "code",
   "execution_count": null,
   "id": "53ae1b53-bf71-43d6-bd77-2535d59928e7",
   "metadata": {},
   "outputs": [],
   "source": [
    "3. Explain the following functions.\n",
    "\n",
    "The methods provided by the Thread class are as follows −\n",
    "\n",
    "run()  − The run() method is the entry point for a thread.\n",
    "start()  − The start() method starts a thread by calling the run method.\n",
    "join([time])  − The join() waits for threads to terminate.\n",
    "isAlive()  − The isAlive() method checks whether a thread is still executing."
   ]
  },
  {
   "cell_type": "code",
   "execution_count": null,
   "id": "33efe93a-375b-4435-bc2b-a5812a162622",
   "metadata": {},
   "outputs": [],
   "source": [
    "4. Write a python program to create two threads. Thread one must print the list of squares and thread\n",
    "two must print the list of cubes."
   ]
  },
  {
   "cell_type": "code",
   "execution_count": 2,
   "id": "3bbeae06-337a-4c23-9cb5-27a7c46a3fa2",
   "metadata": {},
   "outputs": [],
   "source": [
    "import threading"
   ]
  },
  {
   "cell_type": "code",
   "execution_count": 31,
   "id": "a619433f-1654-4b13-8f21-2403040be0ca",
   "metadata": {},
   "outputs": [],
   "source": [
    "def square(no):\n",
    "    print('list of squares', no)"
   ]
  },
  {
   "cell_type": "code",
   "execution_count": 44,
   "id": "b72e8114-ee3a-47e9-b307-5d12c102b7f8",
   "metadata": {},
   "outputs": [],
   "source": [
    "thread=[threading.Thread(target=square, args=(i*i,)) for i in range(10)]"
   ]
  },
  {
   "cell_type": "code",
   "execution_count": 33,
   "id": "5912793c-e68c-42c7-8d9b-6d5b6cedb37e",
   "metadata": {},
   "outputs": [
    {
     "name": "stdout",
     "output_type": "stream",
     "text": [
      "list of squares 0\n",
      "list of squares 1\n",
      "list of squares 4\n",
      "list of squares 9\n",
      "list of squares 16\n",
      "list of squares 25\n",
      "list of squares 36\n",
      "list of squares 49\n",
      "list of squares 64\n",
      "list of squares 81\n"
     ]
    }
   ],
   "source": [
    "for t in thread:\n",
    "    t.start()"
   ]
  },
  {
   "cell_type": "code",
   "execution_count": 36,
   "id": "2f2ce4e2-925f-43e1-aef0-cb19c60eac4a",
   "metadata": {},
   "outputs": [],
   "source": [
    "def cube(no):\n",
    "    print('list of cubes %d'% no)"
   ]
  },
  {
   "cell_type": "code",
   "execution_count": 37,
   "id": "f945f737-a7ad-41db-a414-09b33ced3135",
   "metadata": {},
   "outputs": [],
   "source": [
    "thread1=[threading.Thread(target=cube, args=(i*i*i,)) for i in range(10)]"
   ]
  },
  {
   "cell_type": "code",
   "execution_count": 38,
   "id": "21724f6d-1751-4189-8bff-fa7ed3650c11",
   "metadata": {},
   "outputs": [
    {
     "name": "stdout",
     "output_type": "stream",
     "text": [
      "list of cubes 0\n",
      "list of cubes 1\n",
      "list of cubes 8\n",
      "list of cubes 27\n",
      "list of cubes 64\n",
      "list of cubes 125\n",
      "list of cubes 216\n",
      "list of cubes 343\n",
      "list of cubes 512\n",
      "list of cubes 729\n"
     ]
    }
   ],
   "source": [
    "for t1 in thread1:\n",
    "    t1.start()"
   ]
  },
  {
   "cell_type": "code",
   "execution_count": null,
   "id": "542a0fbd-3592-4b6d-b7cd-0897a0878775",
   "metadata": {},
   "outputs": [],
   "source": [
    "5. State advantages and disadvantages of multithreading.\n",
    "\n",
    "Advantages\n",
    "\n",
    "Improved performance and concurrency: For certain applications, performance and concurrency can be improved by using \n",
    "multithreading and multicontexting together. In other applications, performance can be unaffected or even degraded by \n",
    "using multithreading and multicontexting together. How performance is affected depends on your application.\n",
    "\n",
    "Simplified coding of remote procedure calls and conversations: In some applications it is easier to code different remote\n",
    "procedure calls and conversations in separate threads than to manage them from the same thread.\n",
    "\n",
    "Simultaneous access to multiple applications: Your BEA Tuxedo clients can be connected to more than one application at a time.\n",
    "\n",
    "Reduced number of required servers: Because one server can dispatch multiple service threads, the number of servers to \n",
    "start for your application is reduced. This capability for multiple dispatched threads is especially useful for \n",
    "conversational servers, which otherwise must be dedicated to one client for the entire duration of a conversation.\n",
    "\n",
    "Disadvantages:\n",
    "\n",
    "Difficulty of writing code: Multithreaded and multicontexted applications are not easy to write. Only experienced programmers\n",
    "should undertake coding for these types of applications.\n",
    "\n",
    "Difficulty of debugging: It is much harder to replicate an error in a multithreaded or multicontexted application than it\n",
    "is to do so in a single-threaded, single-contexted application. As a result, it is more difficult, in the former case, to\n",
    "identify and verify root causes when errors occur.\n",
    "\n",
    "Difficulty of managing concurrency: The task of managing concurrency among threads is difficult and has the potential to\n",
    "introduce new problems into an application.\n",
    "\n",
    "Difficulty of testing: Testing a multithreaded application is more difficult than testing a single-threaded application\n",
    "because defects are often timing-related and more difficult to reproduce.\n",
    "\n",
    "Difficulty of porting existing code: Existing code often requires significant re-architecting to take advantage of\n",
    "multithreading and multicontexting. "
   ]
  },
  {
   "cell_type": "code",
   "execution_count": null,
   "id": "a06def81-1bfa-4945-acd7-a1f2f08d0705",
   "metadata": {},
   "outputs": [],
   "source": [
    "6. Explain deadlocks and race conditions.\n",
    "\n",
    "A race condition occurs when two threads use the same variable at a given time. Deadlock exists when two threads seek one \n",
    "lock simultaneously.  \n",
    "\n",
    "This situation will stop both threads from processing or executing the functions. In racing, two tasks compete with each \n",
    "other and try to complete a task before each other.\n",
    "\n",
    "In a deadlock, two processes are waiting and expecting the complementary process to complete the task."
   ]
  }
 ],
 "metadata": {
  "kernelspec": {
   "display_name": "Python 3 (ipykernel)",
   "language": "python",
   "name": "python3"
  },
  "language_info": {
   "codemirror_mode": {
    "name": "ipython",
    "version": 3
   },
   "file_extension": ".py",
   "mimetype": "text/x-python",
   "name": "python",
   "nbconvert_exporter": "python",
   "pygments_lexer": "ipython3",
   "version": "3.10.8"
  }
 },
 "nbformat": 4,
 "nbformat_minor": 5
}
